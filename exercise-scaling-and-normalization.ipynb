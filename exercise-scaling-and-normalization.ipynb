{
 "cells": [
  {
   "cell_type": "markdown",
   "id": "d1c42e28",
   "metadata": {
    "papermill": {
     "duration": 0.007365,
     "end_time": "2022-06-27T14:33:31.127779",
     "exception": false,
     "start_time": "2022-06-27T14:33:31.120414",
     "status": "completed"
    },
    "tags": []
   },
   "source": [
    "**This notebook is an exercise in the [Data Cleaning](https://www.kaggle.com/learn/data-cleaning) course.  You can reference the tutorial at [this link](https://www.kaggle.com/alexisbcook/scaling-and-normalization).**\n",
    "\n",
    "---\n"
   ]
  },
  {
   "cell_type": "markdown",
   "id": "47cf3daf",
   "metadata": {
    "papermill": {
     "duration": 0.006154,
     "end_time": "2022-06-27T14:33:31.140327",
     "exception": false,
     "start_time": "2022-06-27T14:33:31.134173",
     "status": "completed"
    },
    "tags": []
   },
   "source": [
    "In this exercise, you'll apply what you learned in the **Scaling and normalization** tutorial.\n",
    "\n",
    "# Setup\n",
    "\n",
    "The questions below will give you feedback on your work. Run the following cell to set up the feedback system."
   ]
  },
  {
   "cell_type": "code",
   "execution_count": 1,
   "id": "7be5e450",
   "metadata": {
    "execution": {
     "iopub.execute_input": "2022-06-27T14:33:31.155494Z",
     "iopub.status.busy": "2022-06-27T14:33:31.154982Z",
     "iopub.status.idle": "2022-06-27T14:33:35.245144Z",
     "shell.execute_reply": "2022-06-27T14:33:35.243441Z"
    },
    "papermill": {
     "duration": 4.102429,
     "end_time": "2022-06-27T14:33:35.249188",
     "exception": false,
     "start_time": "2022-06-27T14:33:31.146759",
     "status": "completed"
    },
    "tags": []
   },
   "outputs": [
    {
     "name": "stdout",
     "output_type": "stream",
     "text": [
      "Setup Complete\n"
     ]
    }
   ],
   "source": [
    "from learntools.core import binder\n",
    "binder.bind(globals())\n",
    "from learntools.data_cleaning.ex2 import *\n",
    "print(\"Setup Complete\")"
   ]
  },
  {
   "cell_type": "markdown",
   "id": "0ef89d08",
   "metadata": {
    "papermill": {
     "duration": 0.006047,
     "end_time": "2022-06-27T14:33:35.262028",
     "exception": false,
     "start_time": "2022-06-27T14:33:35.255981",
     "status": "completed"
    },
    "tags": []
   },
   "source": [
    "# Get our environment set up\n",
    "\n",
    "To practice scaling and normalization, we're going to use a [dataset of Kickstarter campaigns](https://www.kaggle.com/kemical/kickstarter-projects). (Kickstarter is a website where people can ask people to invest in various projects and concept products.)\n",
    "\n",
    "The next code cell loads in the libraries and dataset we'll be using. "
   ]
  },
  {
   "cell_type": "code",
   "execution_count": 2,
   "id": "517258ce",
   "metadata": {
    "execution": {
     "iopub.execute_input": "2022-06-27T14:33:35.277778Z",
     "iopub.status.busy": "2022-06-27T14:33:35.276527Z",
     "iopub.status.idle": "2022-06-27T14:33:37.170456Z",
     "shell.execute_reply": "2022-06-27T14:33:37.169207Z"
    },
    "papermill": {
     "duration": 1.905016,
     "end_time": "2022-06-27T14:33:37.173432",
     "exception": false,
     "start_time": "2022-06-27T14:33:35.268416",
     "status": "completed"
    },
    "tags": []
   },
   "outputs": [],
   "source": [
    "# modules we'll use\n",
    "import pandas as pd\n",
    "import numpy as np\n",
    "\n",
    "# for Box-Cox Transformation\n",
    "from scipy import stats\n",
    "\n",
    "# for min_max scaling\n",
    "from mlxtend.preprocessing import minmax_scaling\n",
    "\n",
    "# plotting modules\n",
    "import seaborn as sns\n",
    "import matplotlib.pyplot as plt\n",
    "\n",
    "# read in all our data\n",
    "kickstarters_2017 = pd.read_csv(\"../input/kickstarter-projects/ks-projects-201801.csv\")\n",
    "\n",
    "# set seed for reproducibility\n",
    "np.random.seed(0)"
   ]
  },
  {
   "cell_type": "markdown",
   "id": "838c109d",
   "metadata": {
    "papermill": {
     "duration": 0.006029,
     "end_time": "2022-06-27T14:33:37.185753",
     "exception": false,
     "start_time": "2022-06-27T14:33:37.179724",
     "status": "completed"
    },
    "tags": []
   },
   "source": [
    "Let's start by scaling the goals of each campaign, which is how much money they were asking for.  After scaling, all values lie between 0 and 1."
   ]
  },
  {
   "cell_type": "code",
   "execution_count": 3,
   "id": "4bd1f6b2",
   "metadata": {
    "execution": {
     "iopub.execute_input": "2022-06-27T14:33:37.200740Z",
     "iopub.status.busy": "2022-06-27T14:33:37.199942Z",
     "iopub.status.idle": "2022-06-27T14:33:37.247618Z",
     "shell.execute_reply": "2022-06-27T14:33:37.246390Z"
    },
    "papermill": {
     "duration": 0.058321,
     "end_time": "2022-06-27T14:33:37.250328",
     "exception": false,
     "start_time": "2022-06-27T14:33:37.192007",
     "status": "completed"
    },
    "tags": []
   },
   "outputs": [
    {
     "name": "stdout",
     "output_type": "stream",
     "text": [
      "Original data\n",
      "Preview:\n",
      "    usd_goal_real\n",
      "0        1533.95\n",
      "1       30000.00\n",
      "2       45000.00\n",
      "3        5000.00\n",
      "4       19500.00\n",
      "Minimum value: 0.01 \n",
      "Maximum value: 166361390.71\n",
      "______________________________\n",
      "\n",
      "Scaled data\n",
      "Preview:\n",
      "    usd_goal_real\n",
      "0       0.000009\n",
      "1       0.000180\n",
      "2       0.000270\n",
      "3       0.000030\n",
      "4       0.000117\n",
      "Minimum value: 0.0 \n",
      "Maximum value: 1.0\n"
     ]
    }
   ],
   "source": [
    "# select the usd_goal_real column\n",
    "original_data = pd.DataFrame(kickstarters_2017.usd_goal_real)\n",
    "\n",
    "# scale the goals from 0 to 1\n",
    "scaled_data = minmax_scaling(original_data, columns=['usd_goal_real'])\n",
    "\n",
    "print('Original data\\nPreview:\\n', original_data.head())\n",
    "print('Minimum value:', float(original_data.min()),\n",
    "      '\\nMaximum value:', float(original_data.max()))\n",
    "print('_'*30)\n",
    "\n",
    "print('\\nScaled data\\nPreview:\\n', scaled_data.head())\n",
    "print('Minimum value:', float(scaled_data.min()),\n",
    "      '\\nMaximum value:', float(scaled_data.max()))"
   ]
  },
  {
   "cell_type": "markdown",
   "id": "bd1a11e1",
   "metadata": {
    "papermill": {
     "duration": 0.006224,
     "end_time": "2022-06-27T14:33:37.262786",
     "exception": false,
     "start_time": "2022-06-27T14:33:37.256562",
     "status": "completed"
    },
    "tags": []
   },
   "source": [
    "# 1) Practice scaling\n",
    "\n",
    "We just scaled the \"usd_goal_real\" column. What about the \"goal\" column?\n",
    "\n",
    "Begin by running the code cell below to create a DataFrame `original_goal_data` containing the \"goal\" column."
   ]
  },
  {
   "cell_type": "code",
   "execution_count": 4,
   "id": "959ab36d",
   "metadata": {
    "execution": {
     "iopub.execute_input": "2022-06-27T14:33:37.278084Z",
     "iopub.status.busy": "2022-06-27T14:33:37.277329Z",
     "iopub.status.idle": "2022-06-27T14:33:37.285211Z",
     "shell.execute_reply": "2022-06-27T14:33:37.283806Z"
    },
    "papermill": {
     "duration": 0.018891,
     "end_time": "2022-06-27T14:33:37.288012",
     "exception": false,
     "start_time": "2022-06-27T14:33:37.269121",
     "status": "completed"
    },
    "tags": []
   },
   "outputs": [],
   "source": [
    "# select the usd_goal_real column\n",
    "original_goal_data = pd.DataFrame(kickstarters_2017.goal)"
   ]
  },
  {
   "cell_type": "markdown",
   "id": "ac0b16f2",
   "metadata": {
    "papermill": {
     "duration": 0.006799,
     "end_time": "2022-06-27T14:33:37.301218",
     "exception": false,
     "start_time": "2022-06-27T14:33:37.294419",
     "status": "completed"
    },
    "tags": []
   },
   "source": [
    "Use `original_goal_data` to create a new DataFrame `scaled_goal_data` with values scaled between 0 and 1. You must use the `minmax_scaling()` function."
   ]
  },
  {
   "cell_type": "code",
   "execution_count": 5,
   "id": "03cb2d9f",
   "metadata": {
    "execution": {
     "iopub.execute_input": "2022-06-27T14:33:37.316911Z",
     "iopub.status.busy": "2022-06-27T14:33:37.316422Z",
     "iopub.status.idle": "2022-06-27T14:33:37.355833Z",
     "shell.execute_reply": "2022-06-27T14:33:37.354534Z"
    },
    "papermill": {
     "duration": 0.051268,
     "end_time": "2022-06-27T14:33:37.359379",
     "exception": false,
     "start_time": "2022-06-27T14:33:37.308111",
     "status": "completed"
    },
    "tags": []
   },
   "outputs": [
    {
     "data": {
      "application/javascript": [
       "parent.postMessage({\"jupyterEvent\": \"custom.exercise_interaction\", \"data\": {\"outcomeType\": 1, \"valueTowardsCompletion\": 0.3333333333333333, \"interactionType\": 1, \"questionType\": 1, \"questionId\": \"1_TryScaling\", \"learnToolsVersion\": \"0.3.4\", \"failureMessage\": \"\", \"exceptionClass\": \"\", \"trace\": \"\"}}, \"*\")"
      ],
      "text/plain": [
       "<IPython.core.display.Javascript object>"
      ]
     },
     "metadata": {},
     "output_type": "display_data"
    },
    {
     "data": {
      "text/markdown": [
       "<span style=\"color:#33cc33\">Correct</span>"
      ],
      "text/plain": [
       "Correct"
      ]
     },
     "metadata": {},
     "output_type": "display_data"
    }
   ],
   "source": [
    "# TODO: Your code here\n",
    "scaled_goal_data = minmax_scaling(original_goal_data,columns=['goal'])\n",
    "\n",
    "# Check your answer\n",
    "q1.check()"
   ]
  },
  {
   "cell_type": "code",
   "execution_count": 6,
   "id": "4b93ad2a",
   "metadata": {
    "execution": {
     "iopub.execute_input": "2022-06-27T14:33:37.376349Z",
     "iopub.status.busy": "2022-06-27T14:33:37.375381Z",
     "iopub.status.idle": "2022-06-27T14:33:37.380720Z",
     "shell.execute_reply": "2022-06-27T14:33:37.379751Z"
    },
    "papermill": {
     "duration": 0.016832,
     "end_time": "2022-06-27T14:33:37.383189",
     "exception": false,
     "start_time": "2022-06-27T14:33:37.366357",
     "status": "completed"
    },
    "tags": []
   },
   "outputs": [],
   "source": [
    "# Lines below will give you a hint or solution code\n",
    "#q1.hint()\n",
    "#q1.solution()"
   ]
  },
  {
   "cell_type": "markdown",
   "id": "ca14b4ea",
   "metadata": {
    "papermill": {
     "duration": 0.006625,
     "end_time": "2022-06-27T14:33:37.396783",
     "exception": false,
     "start_time": "2022-06-27T14:33:37.390158",
     "status": "completed"
    },
    "tags": []
   },
   "source": [
    "# 2) Practice normalization\n",
    "\n",
    "Now you'll practice normalization. We begin by normalizing the amount of money pledged to each campaign."
   ]
  },
  {
   "cell_type": "code",
   "execution_count": 7,
   "id": "dd07b6ef",
   "metadata": {
    "execution": {
     "iopub.execute_input": "2022-06-27T14:33:37.412404Z",
     "iopub.status.busy": "2022-06-27T14:33:37.411990Z",
     "iopub.status.idle": "2022-06-27T14:33:37.661373Z",
     "shell.execute_reply": "2022-06-27T14:33:37.660193Z"
    },
    "papermill": {
     "duration": 0.260555,
     "end_time": "2022-06-27T14:33:37.664165",
     "exception": false,
     "start_time": "2022-06-27T14:33:37.403610",
     "status": "completed"
    },
    "tags": []
   },
   "outputs": [
    {
     "name": "stdout",
     "output_type": "stream",
     "text": [
      "Original data\n",
      "Preview:\n",
      " 1     2421.0\n",
      "2      220.0\n",
      "3        1.0\n",
      "4     1283.0\n",
      "5    52375.0\n",
      "Name: usd_pledged_real, dtype: float64\n",
      "Minimum value: 0.45 \n",
      "Maximum value: 20338986.27\n",
      "______________________________\n",
      "\n",
      "Normalized data\n",
      "Preview:\n",
      " 1    10.165142\n",
      "2     6.468598\n",
      "3     0.000000\n",
      "4     9.129277\n",
      "5    15.836853\n",
      "Name: usd_pledged_real, dtype: float64\n",
      "Minimum value: -0.7779954122762203 \n",
      "Maximum value: 30.69054020451361\n"
     ]
    }
   ],
   "source": [
    "# get the index of all positive pledges (Box-Cox only takes positive values)\n",
    "index_of_positive_pledges = kickstarters_2017.usd_pledged_real > 0\n",
    "\n",
    "# get only positive pledges (using their indexes)\n",
    "positive_pledges = kickstarters_2017.usd_pledged_real.loc[index_of_positive_pledges]\n",
    "\n",
    "# normalize the pledges (w/ Box-Cox)\n",
    "normalized_pledges = pd.Series(stats.boxcox(positive_pledges)[0], \n",
    "                               name='usd_pledged_real', index=positive_pledges.index)\n",
    "\n",
    "print('Original data\\nPreview:\\n', positive_pledges.head())\n",
    "print('Minimum value:', float(positive_pledges.min()),\n",
    "      '\\nMaximum value:', float(positive_pledges.max()))\n",
    "print('_'*30)\n",
    "\n",
    "print('\\nNormalized data\\nPreview:\\n', normalized_pledges.head())\n",
    "print('Minimum value:', float(normalized_pledges.min()),\n",
    "      '\\nMaximum value:', float(normalized_pledges.max()))"
   ]
  },
  {
   "cell_type": "markdown",
   "id": "1572a636",
   "metadata": {
    "papermill": {
     "duration": 0.006479,
     "end_time": "2022-06-27T14:33:37.677535",
     "exception": false,
     "start_time": "2022-06-27T14:33:37.671056",
     "status": "completed"
    },
    "tags": []
   },
   "source": [
    "The values have changed significantly with normalization!\n",
    "\n",
    "In the next code cell, you'll take a look at the distribution of the normalized data, where it should now resemble a normal distribution."
   ]
  },
  {
   "cell_type": "code",
   "execution_count": 8,
   "id": "bd09bab2",
   "metadata": {
    "execution": {
     "iopub.execute_input": "2022-06-27T14:33:37.693555Z",
     "iopub.status.busy": "2022-06-27T14:33:37.692723Z",
     "iopub.status.idle": "2022-06-27T14:33:39.874918Z",
     "shell.execute_reply": "2022-06-27T14:33:39.873471Z"
    },
    "papermill": {
     "duration": 2.193353,
     "end_time": "2022-06-27T14:33:39.877788",
     "exception": false,
     "start_time": "2022-06-27T14:33:37.684435",
     "status": "completed"
    },
    "tags": []
   },
   "outputs": [
    {
     "data": {
      "image/png": "[encoded data removed]",
      "text/plain": [
       "<Figure size 432x288 with 1 Axes>"
      ]
     },
     "metadata": {
      "needs_background": "light"
     },
     "output_type": "display_data"
    }
   ],
   "source": [
    "# plot normalized data\n",
    "ax = sns.histplot(normalized_pledges, kde=True)\n",
    "ax.set_title(\"Normalized data\")\n",
    "plt.show()"
   ]
  },
  {
   "cell_type": "markdown",
   "id": "dff8ca1a",
   "metadata": {
    "papermill": {
     "duration": 0.007157,
     "end_time": "2022-06-27T14:33:39.892522",
     "exception": false,
     "start_time": "2022-06-27T14:33:39.885365",
     "status": "completed"
    },
    "tags": []
   },
   "source": [
    "We used the \"usd_pledged_real\" column. Follow the same process to normalize the \"pledged\" column. "
   ]
  },
  {
   "cell_type": "code",
   "execution_count": 9,
   "id": "64d3096c",
   "metadata": {
    "execution": {
     "iopub.execute_input": "2022-06-27T14:33:39.909271Z",
     "iopub.status.busy": "2022-06-27T14:33:39.908820Z",
     "iopub.status.idle": "2022-06-27T14:33:42.319371Z",
     "shell.execute_reply": "2022-06-27T14:33:42.317909Z"
    },
    "papermill": {
     "duration": 2.423217,
     "end_time": "2022-06-27T14:33:42.323159",
     "exception": false,
     "start_time": "2022-06-27T14:33:39.899942",
     "status": "completed"
    },
    "tags": []
   },
   "outputs": [
    {
     "data": {
      "image/png": "[encoded data removed]",
      "text/plain": [
       "<Figure size 432x288 with 1 Axes>"
      ]
     },
     "metadata": {
      "needs_background": "light"
     },
     "output_type": "display_data"
    }
   ],
   "source": [
    "# TODO: Your code here!\n",
    "positive_indexs=kickstarters_2017.pledged > 0 \n",
    "positivedata=kickstarters_2017.pledged.loc[positive_indexs]\n",
    "normalized_pledged= pd.Series(stats.boxcox(positivedata)[0],name='pledged', index=positivedata.index)\n",
    "\n",
    "ax=sns.histplot(normalized_pledged,kde=True)\n",
    "ax.set_title(\"normalized_pledged\")\n",
    "plt.show()"
   ]
  },
  {
   "cell_type": "markdown",
   "id": "e5ffd23d",
   "metadata": {
    "papermill": {
     "duration": 0.008575,
     "end_time": "2022-06-27T14:33:42.339977",
     "exception": false,
     "start_time": "2022-06-27T14:33:42.331402",
     "status": "completed"
    },
    "tags": []
   },
   "source": [
    "How does the normalized \"usd_pledged_real\" column look different from when we normalized the \"pledged\" column?  Or, do they look mostly the same?\n",
    "\n",
    "Once you have an answer, run the code cell below."
   ]
  },
  {
   "cell_type": "code",
   "execution_count": 10,
   "id": "3395cf83",
   "metadata": {
    "execution": {
     "iopub.execute_input": "2022-06-27T14:33:42.356778Z",
     "iopub.status.busy": "2022-06-27T14:33:42.356307Z",
     "iopub.status.idle": "2022-06-27T14:33:42.366762Z",
     "shell.execute_reply": "2022-06-27T14:33:42.365766Z"
    },
    "papermill": {
     "duration": 0.021946,
     "end_time": "2022-06-27T14:33:42.369371",
     "exception": false,
     "start_time": "2022-06-27T14:33:42.347425",
     "status": "completed"
    },
    "tags": []
   },
   "outputs": [
    {
     "data": {
      "application/javascript": [
       "parent.postMessage({\"jupyterEvent\": \"custom.exercise_interaction\", \"data\": {\"outcomeType\": 1, \"valueTowardsCompletion\": 0.3333333333333333, \"interactionType\": 1, \"questionType\": 4, \"questionId\": \"2_TryNormalization\", \"learnToolsVersion\": \"0.3.4\", \"failureMessage\": \"\", \"exceptionClass\": \"\", \"trace\": \"\"}}, \"*\")"
      ],
      "text/plain": [
       "<IPython.core.display.Javascript object>"
      ]
     },
     "metadata": {},
     "output_type": "display_data"
    },
    {
     "data": {
      "text/markdown": [
       "<span style=\"color:#33cc33\">Correct:</span> \n",
       "\n",
       "The distributions in the normalized data look mostly the same."
      ],
      "text/plain": [
       "Correct: \n",
       "\n",
       "The distributions in the normalized data look mostly the same."
      ]
     },
     "metadata": {},
     "output_type": "display_data"
    }
   ],
   "source": [
    "# Check your answer (Run this code cell to receive credit!)\n",
    "q2.check()"
   ]
  },
  {
   "cell_type": "code",
   "execution_count": 11,
   "id": "8af48e87",
   "metadata": {
    "execution": {
     "iopub.execute_input": "2022-06-27T14:33:42.386862Z",
     "iopub.status.busy": "2022-06-27T14:33:42.386379Z",
     "iopub.status.idle": "2022-06-27T14:33:42.394870Z",
     "shell.execute_reply": "2022-06-27T14:33:42.393763Z"
    },
    "papermill": {
     "duration": 0.019755,
     "end_time": "2022-06-27T14:33:42.396975",
     "exception": false,
     "start_time": "2022-06-27T14:33:42.377220",
     "status": "completed"
    },
    "tags": []
   },
   "outputs": [
    {
     "data": {
      "application/javascript": [
       "parent.postMessage({\"jupyterEvent\": \"custom.exercise_interaction\", \"data\": {\"interactionType\": 2, \"questionType\": 4, \"questionId\": \"2_TryNormalization\", \"learnToolsVersion\": \"0.3.4\", \"valueTowardsCompletion\": 0.0, \"failureMessage\": \"\", \"exceptionClass\": \"\", \"trace\": \"\", \"outcomeType\": 4}}, \"*\")"
      ],
      "text/plain": [
       "<IPython.core.display.Javascript object>"
      ]
     },
     "metadata": {},
     "output_type": "display_data"
    },
    {
     "data": {
      "text/markdown": [
       "<span style=\"color:#3366cc\">Hint:</span> \n",
       "Try running this code:\n",
       "\n",
       "```python\n",
       "# get the index of all positive pledges (Box-Cox only takes positive values)\n",
       "index_positive_pledges = kickstarters_2017.pledged > 0\n",
       "\n",
       "# get only positive pledges (using their indexes)\n",
       "positive_pledges_only = kickstarters_2017.pledged.loc[index_positive_pledges]\n",
       "\n",
       "# normalize the pledges (w/ Box-Cox)\n",
       "normalized_values = pd.Series(stats.boxcox(positive_pledges_only)[0], \n",
       "                              name='pledged', index=positive_pledges_only.index)\n",
       "\n",
       "# plot normalized data\n",
       "ax = sns.histplot(normalized_values, kde=True)\n",
       "ax.set_title(\"Normalized data\")\n",
       "```\n",
       "\n"
      ],
      "text/plain": [
       "Hint: \n",
       "Try running this code:\n",
       "\n",
       "```python\n",
       "# get the index of all positive pledges (Box-Cox only takes positive values)\n",
       "index_positive_pledges = kickstarters_2017.pledged > 0\n",
       "\n",
       "# get only positive pledges (using their indexes)\n",
       "positive_pledges_only = kickstarters_2017.pledged.loc[index_positive_pledges]\n",
       "\n",
       "# normalize the pledges (w/ Box-Cox)\n",
       "normalized_values = pd.Series(stats.boxcox(positive_pledges_only)[0], \n",
       "                              name='pledged', index=positive_pledges_only.index)\n",
       "\n",
       "# plot normalized data\n",
       "ax = sns.histplot(normalized_values, kde=True)\n",
       "ax.set_title(\"Normalized data\")\n",
       "```\n"
      ]
     },
     "metadata": {},
     "output_type": "display_data"
    }
   ],
   "source": [
    "# Line below will give you a hint\n",
    "q2.hint()"
   ]
  },
  {
   "cell_type": "markdown",
   "id": "1f64b86e",
   "metadata": {
    "papermill": {
     "duration": 0.008243,
     "end_time": "2022-06-27T14:33:42.413369",
     "exception": false,
     "start_time": "2022-06-27T14:33:42.405126",
     "status": "completed"
    },
    "tags": []
   },
   "source": [
    "# (Optional) More practice\n",
    "\n",
    "Try finding a new dataset and pretend you're preparing to perform a [regression analysis](https://www.kaggle.com/rtatman/the-5-day-regression-challenge). \n",
    "\n",
    "[These datasets are a good start!](https://www.kaggle.com/rtatman/datasets-for-regression-analysis)\n",
    "\n",
    "Pick three or four variables and decide if you need to normalize or scale any of them and, if you think you should, practice applying the correct technique.\n",
    "\n",
    "# Keep going\n",
    "\n",
    "In the next lesson, learn how to [**parse dates**](https://www.kaggle.com/alexisbcook/parsing-dates) in a dataset."
   ]
  },
  {
   "cell_type": "markdown",
   "id": "2f77ab35",
   "metadata": {
    "papermill": {
     "duration": 0.007507,
     "end_time": "2022-06-27T14:33:42.428733",
     "exception": false,
     "start_time": "2022-06-27T14:33:42.421226",
     "status": "completed"
    },
    "tags": []
   },
   "source": [
    "---\n",
    "\n",
    "\n",
    "\n",
    "\n",
    "*Have questions or comments? Visit the [course discussion forum](https://www.kaggle.com/learn/data-cleaning/discussion) to chat with other learners.*"
   ]
  }
 ],
 "metadata": {
  "kernelspec": {
   "display_name": "Python 3",
   "language": "python",
   "name": "python3"
  },
  "language_info": {
   "codemirror_mode": {
    "name": "ipython",
    "version": 3
   },
   "file_extension": ".py",
   "mimetype": "text/x-python",
   "name": "python",
   "nbconvert_exporter": "python",
   "pygments_lexer": "ipython3",
   "version": "3.7.12"
  },
  "papermill": {
   "default_parameters": {},
   "duration": 25.878215,
   "end_time": "2022-06-27T14:33:45.636451",
   "environment_variables": {},
   "exception": null,
   "input_path": "__notebook__.ipynb",
   "output_path": "__notebook__.ipynb",
   "parameters": {},
   "start_time": "2022-06-27T14:33:19.758236",
   "version": "2.3.4"
  }
 },
 "nbformat": 4,
 "nbformat_minor": 5
}
