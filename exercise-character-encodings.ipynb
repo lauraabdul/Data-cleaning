{
 "cells": [
  {
   "cell_type": "markdown",
   "id": "f122ebb8",
   "metadata": {
    "papermill": {
     "duration": 0.005074,
     "end_time": "2022-06-27T18:17:55.260077",
     "exception": false,
     "start_time": "2022-06-27T18:17:55.255003",
     "status": "completed"
    },
    "tags": []
   },
   "source": [
    "**This notebook is an exercise in the [Data Cleaning](https://www.kaggle.com/learn/data-cleaning) course.  You can reference the tutorial at [this link](https://www.kaggle.com/alexisbcook/character-encodings).**\n",
    "\n",
    "---\n"
   ]
  },
  {
   "cell_type": "markdown",
   "id": "1e0ea18d",
   "metadata": {
    "papermill": {
     "duration": 0.003529,
     "end_time": "2022-06-27T18:17:55.267664",
     "exception": false,
     "start_time": "2022-06-27T18:17:55.264135",
     "status": "completed"
    },
    "tags": []
   },
   "source": [
    "In this exercise, you'll apply what you learned in the **Character encodings** tutorial.\n",
    "\n",
    "# Setup\n",
    "\n",
    "The questions below will give you feedback on your work. Run the following cell to set up the feedback system."
   ]
  },
  {
   "cell_type": "code",
   "execution_count": 1,
   "id": "bb91de2c",
   "metadata": {
    "execution": {
     "iopub.execute_input": "2022-06-27T18:17:55.277556Z",
     "iopub.status.busy": "2022-06-27T18:17:55.276816Z",
     "iopub.status.idle": "2022-06-27T18:17:55.436878Z",
     "shell.execute_reply": "2022-06-27T18:17:55.435592Z"
    },
    "papermill": {
     "duration": 0.168965,
     "end_time": "2022-06-27T18:17:55.440473",
     "exception": false,
     "start_time": "2022-06-27T18:17:55.271508",
     "status": "completed"
    },
    "tags": []
   },
   "outputs": [
    {
     "name": "stdout",
     "output_type": "stream",
     "text": [
      "Setup Complete\n"
     ]
    }
   ],
   "source": [
    "from learntools.core import binder\n",
    "binder.bind(globals())\n",
    "from learntools.data_cleaning.ex4 import *\n",
    "print(\"Setup Complete\")"
   ]
  },
  {
   "cell_type": "markdown",
   "id": "0a3cc2e6",
   "metadata": {
    "papermill": {
     "duration": 0.007132,
     "end_time": "2022-06-27T18:17:55.454603",
     "exception": false,
     "start_time": "2022-06-27T18:17:55.447471",
     "status": "completed"
    },
    "tags": []
   },
   "source": [
    "# Get our environment set up\n",
    "\n",
    "The first thing we'll need to do is load in the libraries we'll be using."
   ]
  },
  {
   "cell_type": "code",
   "execution_count": 2,
   "id": "01d1f9ac",
   "metadata": {
    "execution": {
     "iopub.execute_input": "2022-06-27T18:17:55.466856Z",
     "iopub.status.busy": "2022-06-27T18:17:55.465604Z",
     "iopub.status.idle": "2022-06-27T18:17:55.472184Z",
     "shell.execute_reply": "2022-06-27T18:17:55.471235Z"
    },
    "papermill": {
     "duration": 0.014952,
     "end_time": "2022-06-27T18:17:55.475167",
     "exception": false,
     "start_time": "2022-06-27T18:17:55.460215",
     "status": "completed"
    },
    "tags": []
   },
   "outputs": [],
   "source": [
    "# modules we'll use\n",
    "import pandas as pd\n",
    "import numpy as np\n",
    "\n",
    "# helpful character encoding module\n",
    "import chardet\n",
    "\n",
    "# set seed for reproducibility\n",
    "np.random.seed(0)"
   ]
  },
  {
   "cell_type": "markdown",
   "id": "00939656",
   "metadata": {
    "papermill": {
     "duration": 0.004919,
     "end_time": "2022-06-27T18:17:55.484815",
     "exception": false,
     "start_time": "2022-06-27T18:17:55.479896",
     "status": "completed"
    },
    "tags": []
   },
   "source": [
    "# 1) What are encodings?\n",
    "\n",
    "You're working with a dataset composed of bytes.  Run the code cell below to print a sample entry."
   ]
  },
  {
   "cell_type": "code",
   "execution_count": 3,
   "id": "93f9c670",
   "metadata": {
    "execution": {
     "iopub.execute_input": "2022-06-27T18:17:55.499068Z",
     "iopub.status.busy": "2022-06-27T18:17:55.498564Z",
     "iopub.status.idle": "2022-06-27T18:17:55.504050Z",
     "shell.execute_reply": "2022-06-27T18:17:55.503278Z"
    },
    "papermill": {
     "duration": 0.015434,
     "end_time": "2022-06-27T18:17:55.505939",
     "exception": false,
     "start_time": "2022-06-27T18:17:55.490505",
     "status": "completed"
    },
    "tags": []
   },
   "outputs": [
    {
     "name": "stdout",
     "output_type": "stream",
     "text": [
      "b'\\xa7A\\xa6n'\n",
      "data type: <class 'bytes'>\n"
     ]
    }
   ],
   "source": [
    "sample_entry = b'\\xa7A\\xa6n'\n",
    "print(sample_entry)\n",
    "print('data type:', type(sample_entry))"
   ]
  },
  {
   "cell_type": "markdown",
   "id": "252ec158",
   "metadata": {
    "papermill": {
     "duration": 0.003797,
     "end_time": "2022-06-27T18:17:55.513773",
     "exception": false,
     "start_time": "2022-06-27T18:17:55.509976",
     "status": "completed"
    },
    "tags": []
   },
   "source": [
    "You notice that it doesn't use the standard UTF-8 encoding. \n",
    "\n",
    "Use the next code cell to create a variable `new_entry` that changes the encoding from `\"big5-tw\"` to `\"utf-8\"`.  `new_entry` should have the bytes datatype."
   ]
  },
  {
   "cell_type": "code",
   "execution_count": 4,
   "id": "b5a61158",
   "metadata": {
    "execution": {
     "iopub.execute_input": "2022-06-27T18:17:55.523549Z",
     "iopub.status.busy": "2022-06-27T18:17:55.522904Z",
     "iopub.status.idle": "2022-06-27T18:17:55.531838Z",
     "shell.execute_reply": "2022-06-27T18:17:55.530900Z"
    },
    "papermill": {
     "duration": 0.015998,
     "end_time": "2022-06-27T18:17:55.533691",
     "exception": false,
     "start_time": "2022-06-27T18:17:55.517693",
     "status": "completed"
    },
    "tags": []
   },
   "outputs": [
    {
     "data": {
      "application/javascript": [
       "parent.postMessage({\"jupyterEvent\": \"custom.exercise_interaction\", \"data\": {\"outcomeType\": 1, \"valueTowardsCompletion\": 0.3333333333333333, \"interactionType\": 1, \"questionType\": 1, \"questionId\": \"1_EncodingsIntro\", \"learnToolsVersion\": \"0.3.4\", \"failureMessage\": \"\", \"exceptionClass\": \"\", \"trace\": \"\"}}, \"*\")"
      ],
      "text/plain": [
       "<IPython.core.display.Javascript object>"
      ]
     },
     "metadata": {},
     "output_type": "display_data"
    },
    {
     "data": {
      "text/markdown": [
       "<span style=\"color:#33cc33\">Correct</span>"
      ],
      "text/plain": [
       "Correct"
      ]
     },
     "metadata": {},
     "output_type": "display_data"
    }
   ],
   "source": [
    "old=sample_entry.decode(\"big5-tw\")\n",
    "new_entry = old.encode(\"utf-8\")\n",
    "\n",
    "# Check your answer\n",
    "q1.check()"
   ]
  },
  {
   "cell_type": "code",
   "execution_count": 5,
   "id": "82a643d8",
   "metadata": {
    "execution": {
     "iopub.execute_input": "2022-06-27T18:17:55.543875Z",
     "iopub.status.busy": "2022-06-27T18:17:55.543329Z",
     "iopub.status.idle": "2022-06-27T18:17:55.551962Z",
     "shell.execute_reply": "2022-06-27T18:17:55.551176Z"
    },
    "papermill": {
     "duration": 0.015835,
     "end_time": "2022-06-27T18:17:55.553688",
     "exception": false,
     "start_time": "2022-06-27T18:17:55.537853",
     "status": "completed"
    },
    "tags": []
   },
   "outputs": [
    {
     "data": {
      "application/javascript": [
       "parent.postMessage({\"jupyterEvent\": \"custom.exercise_interaction\", \"data\": {\"interactionType\": 2, \"questionType\": 1, \"questionId\": \"1_EncodingsIntro\", \"learnToolsVersion\": \"0.3.4\", \"valueTowardsCompletion\": 0.0, \"failureMessage\": \"\", \"exceptionClass\": \"\", \"trace\": \"\", \"outcomeType\": 4}}, \"*\")"
      ],
      "text/plain": [
       "<IPython.core.display.Javascript object>"
      ]
     },
     "metadata": {},
     "output_type": "display_data"
    },
    {
     "data": {
      "text/markdown": [
       "<span style=\"color:#3366cc\">Hint:</span> Try using `.decode()` to get the string, then `.encode()` to get the bytes representation, encoded in UTF-8."
      ],
      "text/plain": [
       "Hint: Try using `.decode()` to get the string, then `.encode()` to get the bytes representation, encoded in UTF-8."
      ]
     },
     "metadata": {},
     "output_type": "display_data"
    },
    {
     "data": {
      "application/javascript": [
       "parent.postMessage({\"jupyterEvent\": \"custom.exercise_interaction\", \"data\": {\"interactionType\": 3, \"questionType\": 1, \"questionId\": \"1_EncodingsIntro\", \"learnToolsVersion\": \"0.3.4\", \"valueTowardsCompletion\": 0.0, \"failureMessage\": \"\", \"exceptionClass\": \"\", \"trace\": \"\", \"outcomeType\": 4}}, \"*\")"
      ],
      "text/plain": [
       "<IPython.core.display.Javascript object>"
      ]
     },
     "metadata": {},
     "output_type": "display_data"
    },
    {
     "data": {
      "text/markdown": [
       "<span style=\"color:#33cc99\">Solution:</span> \n",
       "```python\n",
       "before = sample_entry.decode(\"big5-tw\")\n",
       "new_entry = before.encode()\n",
       "\n",
       "```"
      ],
      "text/plain": [
       "Solution: \n",
       "```python\n",
       "before = sample_entry.decode(\"big5-tw\")\n",
       "new_entry = before.encode()\n",
       "\n",
       "```"
      ]
     },
     "metadata": {},
     "output_type": "display_data"
    }
   ],
   "source": [
    "# Lines below will give you a hint or solution code\n",
    "q1.hint()\n",
    "q1.solution()"
   ]
  },
  {
   "cell_type": "markdown",
   "id": "f7d2410c",
   "metadata": {
    "papermill": {
     "duration": 0.004159,
     "end_time": "2022-06-27T18:17:55.562239",
     "exception": false,
     "start_time": "2022-06-27T18:17:55.558080",
     "status": "completed"
    },
    "tags": []
   },
   "source": [
    "# 2) Reading in files with encoding problems\n",
    "\n",
    "Use the code cell below to read in this file at path `\"../input/fatal-police-shootings-in-the-us/PoliceKillingsUS.csv\"`.  \n",
    "\n",
    "Figure out what the correct encoding should be and read in the file to a DataFrame `police_killings`."
   ]
  },
  {
   "cell_type": "code",
   "execution_count": 6,
   "id": "616d06bc",
   "metadata": {
    "execution": {
     "iopub.execute_input": "2022-06-27T18:17:55.572899Z",
     "iopub.status.busy": "2022-06-27T18:17:55.572342Z",
     "iopub.status.idle": "2022-06-27T18:17:55.595260Z",
     "shell.execute_reply": "2022-06-27T18:17:55.594575Z"
    },
    "papermill": {
     "duration": 0.030539,
     "end_time": "2022-06-27T18:17:55.597137",
     "exception": false,
     "start_time": "2022-06-27T18:17:55.566598",
     "status": "completed"
    },
    "tags": []
   },
   "outputs": [
    {
     "data": {
      "application/javascript": [
       "parent.postMessage({\"jupyterEvent\": \"custom.exercise_interaction\", \"data\": {\"outcomeType\": 1, \"valueTowardsCompletion\": 0.3333333333333333, \"interactionType\": 1, \"questionType\": 1, \"questionId\": \"2_ReadIn\", \"learnToolsVersion\": \"0.3.4\", \"failureMessage\": \"\", \"exceptionClass\": \"\", \"trace\": \"\"}}, \"*\")"
      ],
      "text/plain": [
       "<IPython.core.display.Javascript object>"
      ]
     },
     "metadata": {},
     "output_type": "display_data"
    },
    {
     "data": {
      "text/markdown": [
       "<span style=\"color:#33cc33\">Correct</span>"
      ],
      "text/plain": [
       "Correct"
      ]
     },
     "metadata": {},
     "output_type": "display_data"
    }
   ],
   "source": [
    "# TODO: Load in the DataFrame correctly.\n",
    "\n",
    "\n",
    "\n",
    "police_killings =pd.read_csv(\"../input/fatal-police-shootings-in-the-us/PoliceKillingsUS.csv\",encoding='Windows-1252')\n",
    "\n",
    "# Check your answer\n",
    "q2.check()"
   ]
  },
  {
   "cell_type": "markdown",
   "id": "05296e63",
   "metadata": {
    "papermill": {
     "duration": 0.004556,
     "end_time": "2022-06-27T18:17:55.606444",
     "exception": false,
     "start_time": "2022-06-27T18:17:55.601888",
     "status": "completed"
    },
    "tags": []
   },
   "source": [
    "Feel free to use any additional code cells for supplemental work.  To get credit for finishing this question, you'll need to run `q2.check()` and get a result of **Correct**."
   ]
  },
  {
   "cell_type": "code",
   "execution_count": 7,
   "id": "c74dae6d",
   "metadata": {
    "execution": {
     "iopub.execute_input": "2022-06-27T18:17:55.618317Z",
     "iopub.status.busy": "2022-06-27T18:17:55.617765Z",
     "iopub.status.idle": "2022-06-27T18:17:56.557619Z",
     "shell.execute_reply": "2022-06-27T18:17:56.556161Z"
    },
    "papermill": {
     "duration": 0.948454,
     "end_time": "2022-06-27T18:17:56.559934",
     "exception": false,
     "start_time": "2022-06-27T18:17:55.611480",
     "status": "completed"
    },
    "tags": []
   },
   "outputs": [
    {
     "name": "stdout",
     "output_type": "stream",
     "text": [
      "{'encoding': 'Windows-1252', 'confidence': 0.73, 'language': ''}\n"
     ]
    }
   ],
   "source": [
    "# (Optional) Use this code cell for any additional work.\n",
    "with open (\"../input/fatal-police-shootings-in-the-us/PoliceKillingsUS.csv\",'rb') as rawdata:\n",
    "    result=chardet.detect(rawdata.read(100000))\n",
    "    print(result) \n"
   ]
  },
  {
   "cell_type": "code",
   "execution_count": 8,
   "id": "e68c4849",
   "metadata": {
    "execution": {
     "iopub.execute_input": "2022-06-27T18:17:56.571347Z",
     "iopub.status.busy": "2022-06-27T18:17:56.570964Z",
     "iopub.status.idle": "2022-06-27T18:17:56.579321Z",
     "shell.execute_reply": "2022-06-27T18:17:56.578268Z"
    },
    "papermill": {
     "duration": 0.016488,
     "end_time": "2022-06-27T18:17:56.581391",
     "exception": false,
     "start_time": "2022-06-27T18:17:56.564903",
     "status": "completed"
    },
    "tags": []
   },
   "outputs": [
    {
     "data": {
      "application/javascript": [
       "parent.postMessage({\"jupyterEvent\": \"custom.exercise_interaction\", \"data\": {\"interactionType\": 2, \"questionType\": 1, \"questionId\": \"2_ReadIn\", \"learnToolsVersion\": \"0.3.4\", \"valueTowardsCompletion\": 0.0, \"failureMessage\": \"\", \"exceptionClass\": \"\", \"trace\": \"\", \"outcomeType\": 4}}, \"*\")"
      ],
      "text/plain": [
       "<IPython.core.display.Javascript object>"
      ]
     },
     "metadata": {},
     "output_type": "display_data"
    },
    {
     "data": {
      "text/markdown": [
       "<span style=\"color:#3366cc\">Hint:</span> If you try to guess the encoding with the first 10,000 bytes of the file, it might give you the wrong answer.  Try using 100,000 or more lines of the file."
      ],
      "text/plain": [
       "Hint: If you try to guess the encoding with the first 10,000 bytes of the file, it might give you the wrong answer.  Try using 100,000 or more lines of the file."
      ]
     },
     "metadata": {},
     "output_type": "display_data"
    }
   ],
   "source": [
    "# Lines below will give you a hint or solution code\n",
    "q2.hint()\n",
    "#q2.solution()"
   ]
  },
  {
   "cell_type": "markdown",
   "id": "15e5a2c4",
   "metadata": {
    "papermill": {
     "duration": 0.004974,
     "end_time": "2022-06-27T18:17:56.591370",
     "exception": false,
     "start_time": "2022-06-27T18:17:56.586396",
     "status": "completed"
    },
    "tags": []
   },
   "source": [
    "# 3) Saving your files with UTF-8 encoding\n",
    "\n",
    "Save a version of the police killings dataset to CSV with UTF-8 encoding.  Your answer will be marked correct after saving this file.  \n",
    "\n",
    "Note: When using the `to_csv()` method, supply only the name of the file (e.g., `\"my_file.csv\"`).  This saves the file at the filepath `\"/kaggle/working/my_file.csv\"`."
   ]
  },
  {
   "cell_type": "code",
   "execution_count": 9,
   "id": "4c3ed234",
   "metadata": {
    "execution": {
     "iopub.execute_input": "2022-06-27T18:17:56.603104Z",
     "iopub.status.busy": "2022-06-27T18:17:56.602755Z",
     "iopub.status.idle": "2022-06-27T18:17:56.632107Z",
     "shell.execute_reply": "2022-06-27T18:17:56.631304Z"
    },
    "papermill": {
     "duration": 0.037705,
     "end_time": "2022-06-27T18:17:56.634131",
     "exception": false,
     "start_time": "2022-06-27T18:17:56.596426",
     "status": "completed"
    },
    "tags": []
   },
   "outputs": [
    {
     "data": {
      "application/javascript": [
       "parent.postMessage({\"jupyterEvent\": \"custom.exercise_interaction\", \"data\": {\"outcomeType\": 1, \"valueTowardsCompletion\": 0.3333333333333333, \"interactionType\": 1, \"questionType\": 2, \"questionId\": \"3_SaveCSV\", \"learnToolsVersion\": \"0.3.4\", \"failureMessage\": \"\", \"exceptionClass\": \"\", \"trace\": \"\"}}, \"*\")"
      ],
      "text/plain": [
       "<IPython.core.display.Javascript object>"
      ]
     },
     "metadata": {},
     "output_type": "display_data"
    },
    {
     "data": {
      "text/markdown": [
       "<span style=\"color:#33cc33\">Correct</span>"
      ],
      "text/plain": [
       "Correct"
      ]
     },
     "metadata": {},
     "output_type": "display_data"
    }
   ],
   "source": [
    "# TODO: Save the police killings dataset to CSV\n",
    "police_killings.to_csv(\"my_file.csv\")\n",
    "\n",
    "# Check your answer\n",
    "q3.check()"
   ]
  },
  {
   "cell_type": "code",
   "execution_count": 10,
   "id": "3173a68f",
   "metadata": {
    "execution": {
     "iopub.execute_input": "2022-06-27T18:17:56.646555Z",
     "iopub.status.busy": "2022-06-27T18:17:56.646158Z",
     "iopub.status.idle": "2022-06-27T18:17:56.658921Z",
     "shell.execute_reply": "2022-06-27T18:17:56.657881Z"
    },
    "papermill": {
     "duration": 0.021487,
     "end_time": "2022-06-27T18:17:56.660905",
     "exception": false,
     "start_time": "2022-06-27T18:17:56.639418",
     "status": "completed"
    },
    "tags": []
   },
   "outputs": [
    {
     "data": {
      "application/javascript": [
       "parent.postMessage({\"jupyterEvent\": \"custom.exercise_interaction\", \"data\": {\"interactionType\": 2, \"questionType\": 2, \"questionId\": \"3_SaveCSV\", \"learnToolsVersion\": \"0.3.4\", \"valueTowardsCompletion\": 0.0, \"failureMessage\": \"\", \"exceptionClass\": \"\", \"trace\": \"\", \"outcomeType\": 4}}, \"*\")"
      ],
      "text/plain": [
       "<IPython.core.display.Javascript object>"
      ]
     },
     "metadata": {},
     "output_type": "display_data"
    },
    {
     "data": {
      "text/markdown": [
       "<span style=\"color:#3366cc\">Hint:</span> Use `.to_csv().`"
      ],
      "text/plain": [
       "Hint: Use `.to_csv().`"
      ]
     },
     "metadata": {},
     "output_type": "display_data"
    },
    {
     "data": {
      "application/javascript": [
       "parent.postMessage({\"jupyterEvent\": \"custom.exercise_interaction\", \"data\": {\"interactionType\": 3, \"questionType\": 2, \"questionId\": \"3_SaveCSV\", \"learnToolsVersion\": \"0.3.4\", \"valueTowardsCompletion\": 0.0, \"failureMessage\": \"\", \"exceptionClass\": \"\", \"trace\": \"\", \"outcomeType\": 4}}, \"*\")"
      ],
      "text/plain": [
       "<IPython.core.display.Javascript object>"
      ]
     },
     "metadata": {},
     "output_type": "display_data"
    },
    {
     "data": {
      "text/markdown": [
       "<span style=\"color:#33cc99\">Solution:</span> \n",
       "```python\n",
       "\n",
       "police_killings.to_csv(\"my_file.csv\")\n",
       "\n",
       "```"
      ],
      "text/plain": [
       "Solution: \n",
       "```python\n",
       "\n",
       "police_killings.to_csv(\"my_file.csv\")\n",
       "\n",
       "```"
      ]
     },
     "metadata": {},
     "output_type": "display_data"
    }
   ],
   "source": [
    "# Lines below will give you a hint or solution code\n",
    "q3.hint()\n",
    "q3.solution()"
   ]
  },
  {
   "cell_type": "markdown",
   "id": "9465bf02",
   "metadata": {
    "papermill": {
     "duration": 0.005107,
     "end_time": "2022-06-27T18:17:56.671585",
     "exception": false,
     "start_time": "2022-06-27T18:17:56.666478",
     "status": "completed"
    },
    "tags": []
   },
   "source": [
    "# (Optional) More practice\n",
    "\n",
    "Check out [this dataset of files in different character encodings](https://www.kaggle.com/rtatman/character-encoding-examples). Can you read in all the files with their original encodings and them save them out as UTF-8 files?\n",
    "\n",
    "If you have a file that's in UTF-8 but has just a couple of weird-looking characters in it, you can try out the [ftfy module](https://ftfy.readthedocs.io/en/latest/#) and see if it helps. \n",
    "\n",
    "# Keep going\n",
    "\n",
    "In the final lesson, learn how to [**clean up inconsistent text entries**](https://www.kaggle.com/alexisbcook/inconsistent-data-entry) in your dataset."
   ]
  },
  {
   "cell_type": "markdown",
   "id": "548e0358",
   "metadata": {
    "papermill": {
     "duration": 0.005135,
     "end_time": "2022-06-27T18:17:56.682069",
     "exception": false,
     "start_time": "2022-06-27T18:17:56.676934",
     "status": "completed"
    },
    "tags": []
   },
   "source": [
    "---\n",
    "\n",
    "\n",
    "\n",
    "\n",
    "*Have questions or comments? Visit the [course discussion forum](https://www.kaggle.com/learn/data-cleaning/discussion) to chat with other learners.*"
   ]
  }
 ],
 "metadata": {
  "kernelspec": {
   "display_name": "Python 3",
   "language": "python",
   "name": "python3"
  },
  "language_info": {
   "codemirror_mode": {
    "name": "ipython",
    "version": 3
   },
   "file_extension": ".py",
   "mimetype": "text/x-python",
   "name": "python",
   "nbconvert_exporter": "python",
   "pygments_lexer": "ipython3",
   "version": "3.7.12"
  },
  "papermill": {
   "default_parameters": {},
   "duration": 10.542116,
   "end_time": "2022-06-27T18:17:57.306631",
   "environment_variables": {},
   "exception": null,
   "input_path": "__notebook__.ipynb",
   "output_path": "__notebook__.ipynb",
   "parameters": {},
   "start_time": "2022-06-27T18:17:46.764515",
   "version": "2.3.4"
  }
 },
 "nbformat": 4,
 "nbformat_minor": 5
}
