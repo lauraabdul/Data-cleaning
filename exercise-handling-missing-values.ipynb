{
 "cells": [
  {
   "cell_type": "markdown",
   "id": "f9923d59",
   "metadata": {
    "papermill": {
     "duration": 0.007699,
     "end_time": "2022-06-27T13:09:23.467004",
     "exception": false,
     "start_time": "2022-06-27T13:09:23.459305",
     "status": "completed"
    },
    "tags": []
   },
   "source": [
    "**This notebook is an exercise in the [Data Cleaning](https://www.kaggle.com/learn/data-cleaning) course.  You can reference the tutorial at [this link](https://www.kaggle.com/alexisbcook/handling-missing-values).**\n",
    "\n",
    "---\n"
   ]
  },
  {
   "cell_type": "markdown",
   "id": "5deefe51",
   "metadata": {
    "papermill": {
     "duration": 0.00651,
     "end_time": "2022-06-27T13:09:23.480271",
     "exception": false,
     "start_time": "2022-06-27T13:09:23.473761",
     "status": "completed"
    },
    "tags": []
   },
   "source": [
    "In this exercise, you'll apply what you learned in the **Handling missing values** tutorial.\n",
    "\n",
    "# Setup\n",
    "\n",
    "The questions below will give you feedback on your work. Run the following cell to set up the feedback system."
   ]
  },
  {
   "cell_type": "code",
   "execution_count": 1,
   "id": "4b3636cb",
   "metadata": {
    "execution": {
     "iopub.execute_input": "2022-06-27T13:09:23.495627Z",
     "iopub.status.busy": "2022-06-27T13:09:23.494917Z",
     "iopub.status.idle": "2022-06-27T13:09:28.990864Z",
     "shell.execute_reply": "2022-06-27T13:09:28.989028Z"
    },
    "papermill": {
     "duration": 5.507574,
     "end_time": "2022-06-27T13:09:28.994314",
     "exception": false,
     "start_time": "2022-06-27T13:09:23.486740",
     "status": "completed"
    },
    "tags": []
   },
   "outputs": [
    {
     "name": "stderr",
     "output_type": "stream",
     "text": [
      "/opt/conda/lib/python3.7/site-packages/ipykernel_launcher.py:3: DtypeWarning: Columns (22,32) have mixed types.Specify dtype option on import or set low_memory=False.\n",
      "  This is separate from the ipykernel package so we can avoid doing imports until\n"
     ]
    },
    {
     "name": "stdout",
     "output_type": "stream",
     "text": [
      "Setup Complete\n"
     ]
    }
   ],
   "source": [
    "from learntools.core import binder\n",
    "binder.bind(globals())\n",
    "from learntools.data_cleaning.ex1 import *\n",
    "print(\"Setup Complete\")"
   ]
  },
  {
   "cell_type": "markdown",
   "id": "01a0c67e",
   "metadata": {
    "papermill": {
     "duration": 0.007015,
     "end_time": "2022-06-27T13:09:29.008836",
     "exception": false,
     "start_time": "2022-06-27T13:09:29.001821",
     "status": "completed"
    },
    "tags": []
   },
   "source": [
    "# 1) Take a first look at the data\n",
    "\n",
    "Run the next code cell to load in the libraries and dataset you'll use to complete the exercise."
   ]
  },
  {
   "cell_type": "code",
   "execution_count": 2,
   "id": "94d888c7",
   "metadata": {
    "execution": {
     "iopub.execute_input": "2022-06-27T13:09:29.025051Z",
     "iopub.status.busy": "2022-06-27T13:09:29.023841Z",
     "iopub.status.idle": "2022-06-27T13:09:31.043329Z",
     "shell.execute_reply": "2022-06-27T13:09:31.042060Z"
    },
    "papermill": {
     "duration": 2.030467,
     "end_time": "2022-06-27T13:09:31.046023",
     "exception": false,
     "start_time": "2022-06-27T13:09:29.015556",
     "status": "completed"
    },
    "tags": []
   },
   "outputs": [
    {
     "name": "stderr",
     "output_type": "stream",
     "text": [
      "/opt/conda/lib/python3.7/site-packages/IPython/core/interactiveshell.py:3552: DtypeWarning: Columns (22,32) have mixed types.Specify dtype option on import or set low_memory=False.\n",
      "  exec(code_obj, self.user_global_ns, self.user_ns)\n"
     ]
    }
   ],
   "source": [
    "# modules we'll use\n",
    "import pandas as pd\n",
    "import numpy as np\n",
    "\n",
    "# read in all our data\n",
    "sf_permits = pd.read_csv(\"../input/building-permit-applications-data/Building_Permits.csv\")\n",
    "\n",
    "# set seed for reproducibility\n",
    "np.random.seed(0) "
   ]
  },
  {
   "cell_type": "markdown",
   "id": "3d6e6a95",
   "metadata": {
    "papermill": {
     "duration": 0.006543,
     "end_time": "2022-06-27T13:09:31.059290",
     "exception": false,
     "start_time": "2022-06-27T13:09:31.052747",
     "status": "completed"
    },
    "tags": []
   },
   "source": [
    "Use the code cell below to print the first five rows of the `sf_permits` DataFrame."
   ]
  },
  {
   "cell_type": "code",
   "execution_count": 3,
   "id": "a0e18a65",
   "metadata": {
    "execution": {
     "iopub.execute_input": "2022-06-27T13:09:31.074682Z",
     "iopub.status.busy": "2022-06-27T13:09:31.074255Z",
     "iopub.status.idle": "2022-06-27T13:09:31.079769Z",
     "shell.execute_reply": "2022-06-27T13:09:31.078397Z"
    },
    "papermill": {
     "duration": 0.016029,
     "end_time": "2022-06-27T13:09:31.082169",
     "exception": false,
     "start_time": "2022-06-27T13:09:31.066140",
     "status": "completed"
    },
    "tags": []
   },
   "outputs": [],
   "source": [
    "# TODO: Your code here!\n"
   ]
  },
  {
   "cell_type": "markdown",
   "id": "9a890274",
   "metadata": {
    "papermill": {
     "duration": 0.006568,
     "end_time": "2022-06-27T13:09:31.095530",
     "exception": false,
     "start_time": "2022-06-27T13:09:31.088962",
     "status": "completed"
    },
    "tags": []
   },
   "source": [
    "Does the dataset have any missing values?  Once you have an answer, run the code cell below to get credit for your work."
   ]
  },
  {
   "cell_type": "code",
   "execution_count": 4,
   "id": "62cf1f7d",
   "metadata": {
    "execution": {
     "iopub.execute_input": "2022-06-27T13:09:31.110936Z",
     "iopub.status.busy": "2022-06-27T13:09:31.110529Z",
     "iopub.status.idle": "2022-06-27T13:09:31.121492Z",
     "shell.execute_reply": "2022-06-27T13:09:31.120652Z"
    },
    "papermill": {
     "duration": 0.021724,
     "end_time": "2022-06-27T13:09:31.124008",
     "exception": false,
     "start_time": "2022-06-27T13:09:31.102284",
     "status": "completed"
    },
    "tags": []
   },
   "outputs": [
    {
     "data": {
      "application/javascript": [
       "parent.postMessage({\"jupyterEvent\": \"custom.exercise_interaction\", \"data\": {\"outcomeType\": 1, \"valueTowardsCompletion\": 0.16666666666666666, \"interactionType\": 1, \"questionType\": 4, \"questionId\": \"1_TakeFirstLook\", \"learnToolsVersion\": \"0.3.4\", \"failureMessage\": \"\", \"exceptionClass\": \"\", \"trace\": \"\"}}, \"*\")"
      ],
      "text/plain": [
       "<IPython.core.display.Javascript object>"
      ]
     },
     "metadata": {},
     "output_type": "display_data"
    },
    {
     "data": {
      "text/markdown": [
       "<span style=\"color:#33cc33\">Correct:</span> \n",
       "\n",
       "The first five rows of the data does show that several columns have missing values.  You can see this in the \"Street Number Suffix\", \"Proposed Construction Type\" and \"Site Permit\" columns, among others."
      ],
      "text/plain": [
       "Correct: \n",
       "\n",
       "The first five rows of the data does show that several columns have missing values.  You can see this in the \"Street Number Suffix\", \"Proposed Construction Type\" and \"Site Permit\" columns, among others."
      ]
     },
     "metadata": {},
     "output_type": "display_data"
    }
   ],
   "source": [
    "# Check your answer (Run this code cell to receive credit!)\n",
    "q1.check()"
   ]
  },
  {
   "cell_type": "code",
   "execution_count": 5,
   "id": "0e72e93f",
   "metadata": {
    "execution": {
     "iopub.execute_input": "2022-06-27T13:09:31.140241Z",
     "iopub.status.busy": "2022-06-27T13:09:31.139462Z",
     "iopub.status.idle": "2022-06-27T13:09:31.143526Z",
     "shell.execute_reply": "2022-06-27T13:09:31.142656Z"
    },
    "papermill": {
     "duration": 0.014474,
     "end_time": "2022-06-27T13:09:31.145647",
     "exception": false,
     "start_time": "2022-06-27T13:09:31.131173",
     "status": "completed"
    },
    "tags": []
   },
   "outputs": [],
   "source": [
    "# Line below will give you a hint\n",
    "#q1.hint()"
   ]
  },
  {
   "cell_type": "markdown",
   "id": "5e29cea2",
   "metadata": {
    "papermill": {
     "duration": 0.006776,
     "end_time": "2022-06-27T13:09:31.159489",
     "exception": false,
     "start_time": "2022-06-27T13:09:31.152713",
     "status": "completed"
    },
    "tags": []
   },
   "source": [
    "# 2) How many missing data points do we have?\n",
    "\n",
    "What percentage of the values in the dataset are missing?  Your answer should be a number between 0 and 100.  (If 1/4 of the values in the dataset are missing, the answer is 25.)"
   ]
  },
  {
   "cell_type": "code",
   "execution_count": 6,
   "id": "b887944c",
   "metadata": {
    "execution": {
     "iopub.execute_input": "2022-06-27T13:09:31.176681Z",
     "iopub.status.busy": "2022-06-27T13:09:31.175783Z",
     "iopub.status.idle": "2022-06-27T13:09:31.183501Z",
     "shell.execute_reply": "2022-06-27T13:09:31.182432Z"
    },
    "papermill": {
     "duration": 0.01898,
     "end_time": "2022-06-27T13:09:31.185991",
     "exception": false,
     "start_time": "2022-06-27T13:09:31.167011",
     "status": "completed"
    },
    "tags": []
   },
   "outputs": [
    {
     "data": {
      "application/javascript": [
       "parent.postMessage({\"jupyterEvent\": \"custom.exercise_interaction\", \"data\": {\"outcomeType\": 4, \"interactionType\": 1, \"questionType\": 1, \"questionId\": \"2_PercentMissingValues\", \"learnToolsVersion\": \"0.3.4\", \"valueTowardsCompletion\": 0.0, \"failureMessage\": \"\", \"exceptionClass\": \"\", \"trace\": \"\"}}, \"*\")"
      ],
      "text/plain": [
       "<IPython.core.display.Javascript object>"
      ]
     },
     "metadata": {},
     "output_type": "display_data"
    },
    {
     "data": {
      "text/markdown": [
       "<span style=\"color:#ccaa33\">Check:</span> When you've updated the starter code, `check()` will tell you whether your code is correct. You need to update the code that creates variable `percent_missing`"
      ],
      "text/plain": [
       "Check: When you've updated the starter code, `check()` will tell you whether your code is correct. You need to update the code that creates variable `percent_missing`"
      ]
     },
     "metadata": {},
     "output_type": "display_data"
    }
   ],
   "source": [
    "# TODO: Your code here!\n",
    "percent_missing = ____\n",
    "\n",
    "# Check your answer\n",
    "q2.check()"
   ]
  },
  {
   "cell_type": "code",
   "execution_count": 7,
   "id": "9a7e2ccd",
   "metadata": {
    "execution": {
     "iopub.execute_input": "2022-06-27T13:09:31.202917Z",
     "iopub.status.busy": "2022-06-27T13:09:31.202517Z",
     "iopub.status.idle": "2022-06-27T13:09:31.207037Z",
     "shell.execute_reply": "2022-06-27T13:09:31.205729Z"
    },
    "papermill": {
     "duration": 0.015918,
     "end_time": "2022-06-27T13:09:31.209411",
     "exception": false,
     "start_time": "2022-06-27T13:09:31.193493",
     "status": "completed"
    },
    "tags": []
   },
   "outputs": [],
   "source": [
    "# Lines below will give you a hint or solution code\n",
    "#q2.hint()\n",
    "#q2.solution()"
   ]
  },
  {
   "cell_type": "markdown",
   "id": "6a6ff0b1",
   "metadata": {
    "papermill": {
     "duration": 0.007045,
     "end_time": "2022-06-27T13:09:31.223898",
     "exception": false,
     "start_time": "2022-06-27T13:09:31.216853",
     "status": "completed"
    },
    "tags": []
   },
   "source": [
    "# 3) Figure out why the data is missing\n",
    "\n",
    "Look at the columns **\"Street Number Suffix\"** and **\"Zipcode\"** from the [San Francisco Building Permits dataset](https://www.kaggle.com/aparnashastry/building-permit-applications-data). Both of these contain missing values. \n",
    "- Which, if either, are missing because they don't exist? \n",
    "- Which, if either, are missing because they weren't recorded?  \n",
    "\n",
    "Once you have an answer, run the code cell below."
   ]
  },
  {
   "cell_type": "code",
   "execution_count": 8,
   "id": "91290594",
   "metadata": {
    "execution": {
     "iopub.execute_input": "2022-06-27T13:09:31.241649Z",
     "iopub.status.busy": "2022-06-27T13:09:31.241215Z",
     "iopub.status.idle": "2022-06-27T13:09:31.251195Z",
     "shell.execute_reply": "2022-06-27T13:09:31.250019Z"
    },
    "papermill": {
     "duration": 0.021776,
     "end_time": "2022-06-27T13:09:31.253427",
     "exception": false,
     "start_time": "2022-06-27T13:09:31.231651",
     "status": "completed"
    },
    "tags": []
   },
   "outputs": [
    {
     "data": {
      "application/javascript": [
       "parent.postMessage({\"jupyterEvent\": \"custom.exercise_interaction\", \"data\": {\"outcomeType\": 1, \"valueTowardsCompletion\": 0.16666666666666666, \"interactionType\": 1, \"questionType\": 4, \"questionId\": \"3_WhyDataMissing\", \"learnToolsVersion\": \"0.3.4\", \"failureMessage\": \"\", \"exceptionClass\": \"\", \"trace\": \"\"}}, \"*\")"
      ],
      "text/plain": [
       "<IPython.core.display.Javascript object>"
      ]
     },
     "metadata": {},
     "output_type": "display_data"
    },
    {
     "data": {
      "text/markdown": [
       "<span style=\"color:#33cc33\">Correct:</span> \n",
       "\n",
       "If a value in the \"Street Number Suffix\" column is missing, it is likely because it does not exist. If a value in the \"Zipcode\" column is missing, it was not recorded."
      ],
      "text/plain": [
       "Correct: \n",
       "\n",
       "If a value in the \"Street Number Suffix\" column is missing, it is likely because it does not exist. If a value in the \"Zipcode\" column is missing, it was not recorded."
      ]
     },
     "metadata": {},
     "output_type": "display_data"
    }
   ],
   "source": [
    "# Check your answer (Run this code cell to receive credit!)\n",
    "q3.check()"
   ]
  },
  {
   "cell_type": "code",
   "execution_count": 9,
   "id": "fe346b81",
   "metadata": {
    "execution": {
     "iopub.execute_input": "2022-06-27T13:09:31.271465Z",
     "iopub.status.busy": "2022-06-27T13:09:31.271016Z",
     "iopub.status.idle": "2022-06-27T13:09:31.274737Z",
     "shell.execute_reply": "2022-06-27T13:09:31.273903Z"
    },
    "papermill": {
     "duration": 0.015748,
     "end_time": "2022-06-27T13:09:31.276971",
     "exception": false,
     "start_time": "2022-06-27T13:09:31.261223",
     "status": "completed"
    },
    "tags": []
   },
   "outputs": [],
   "source": [
    "# Line below will give you a hint\n",
    "#q3.hint()"
   ]
  },
  {
   "cell_type": "markdown",
   "id": "6be9bbe4",
   "metadata": {
    "papermill": {
     "duration": 0.008448,
     "end_time": "2022-06-27T13:09:31.293432",
     "exception": false,
     "start_time": "2022-06-27T13:09:31.284984",
     "status": "completed"
    },
    "tags": []
   },
   "source": [
    "# 4) Drop missing values: rows\n",
    "\n",
    "If you removed all of the rows of `sf_permits` with missing values, how many rows are left?\n",
    "\n",
    "**Note**: Do not change the value of `sf_permits` when checking this.  "
   ]
  },
  {
   "cell_type": "code",
   "execution_count": 10,
   "id": "943aa280",
   "metadata": {
    "execution": {
     "iopub.execute_input": "2022-06-27T13:09:31.312057Z",
     "iopub.status.busy": "2022-06-27T13:09:31.310854Z",
     "iopub.status.idle": "2022-06-27T13:09:31.315863Z",
     "shell.execute_reply": "2022-06-27T13:09:31.314652Z"
    },
    "papermill": {
     "duration": 0.016924,
     "end_time": "2022-06-27T13:09:31.318418",
     "exception": false,
     "start_time": "2022-06-27T13:09:31.301494",
     "status": "completed"
    },
    "tags": []
   },
   "outputs": [],
   "source": [
    "# TODO: Your code here!\n"
   ]
  },
  {
   "cell_type": "markdown",
   "id": "9aef862f",
   "metadata": {
    "papermill": {
     "duration": 0.007861,
     "end_time": "2022-06-27T13:09:31.334429",
     "exception": false,
     "start_time": "2022-06-27T13:09:31.326568",
     "status": "completed"
    },
    "tags": []
   },
   "source": [
    "Once you have an answer, run the code cell below."
   ]
  },
  {
   "cell_type": "code",
   "execution_count": 11,
   "id": "d2696518",
   "metadata": {
    "execution": {
     "iopub.execute_input": "2022-06-27T13:09:31.352620Z",
     "iopub.status.busy": "2022-06-27T13:09:31.352202Z",
     "iopub.status.idle": "2022-06-27T13:09:31.360896Z",
     "shell.execute_reply": "2022-06-27T13:09:31.360053Z"
    },
    "papermill": {
     "duration": 0.020556,
     "end_time": "2022-06-27T13:09:31.363005",
     "exception": false,
     "start_time": "2022-06-27T13:09:31.342449",
     "status": "completed"
    },
    "tags": []
   },
   "outputs": [
    {
     "data": {
      "application/javascript": [
       "parent.postMessage({\"jupyterEvent\": \"custom.exercise_interaction\", \"data\": {\"outcomeType\": 1, \"valueTowardsCompletion\": 0.16666666666666666, \"interactionType\": 1, \"questionType\": 4, \"questionId\": \"4_DropMissingRows\", \"learnToolsVersion\": \"0.3.4\", \"failureMessage\": \"\", \"exceptionClass\": \"\", \"trace\": \"\"}}, \"*\")"
      ],
      "text/plain": [
       "<IPython.core.display.Javascript object>"
      ]
     },
     "metadata": {},
     "output_type": "display_data"
    },
    {
     "data": {
      "text/markdown": [
       "<span style=\"color:#33cc33\">Correct:</span> \n",
       "\n",
       "There are no rows remaining in the dataset!"
      ],
      "text/plain": [
       "Correct: \n",
       "\n",
       "There are no rows remaining in the dataset!"
      ]
     },
     "metadata": {},
     "output_type": "display_data"
    }
   ],
   "source": [
    "# Check your answer (Run this code cell to receive credit!)\n",
    "q4.check()"
   ]
  },
  {
   "cell_type": "code",
   "execution_count": 12,
   "id": "968b714a",
   "metadata": {
    "execution": {
     "iopub.execute_input": "2022-06-27T13:09:31.382259Z",
     "iopub.status.busy": "2022-06-27T13:09:31.381837Z",
     "iopub.status.idle": "2022-06-27T13:09:31.386430Z",
     "shell.execute_reply": "2022-06-27T13:09:31.385195Z"
    },
    "papermill": {
     "duration": 0.017297,
     "end_time": "2022-06-27T13:09:31.388687",
     "exception": false,
     "start_time": "2022-06-27T13:09:31.371390",
     "status": "completed"
    },
    "tags": []
   },
   "outputs": [],
   "source": [
    "# Line below will give you a hint\n",
    "#q4.hint()"
   ]
  },
  {
   "cell_type": "markdown",
   "id": "8fa1be2b",
   "metadata": {
    "papermill": {
     "duration": 0.008087,
     "end_time": "2022-06-27T13:09:31.405138",
     "exception": false,
     "start_time": "2022-06-27T13:09:31.397051",
     "status": "completed"
    },
    "tags": []
   },
   "source": [
    "# 5) Drop missing values: columns\n",
    "\n",
    "Now try removing all the columns with empty values.  \n",
    "- Create a new DataFrame called `sf_permits_with_na_dropped` that has all of the columns with empty values removed.  \n",
    "- How many columns were removed from the original `sf_permits` DataFrame? Use this number to set the value of the `dropped_columns` variable below."
   ]
  },
  {
   "cell_type": "code",
   "execution_count": 13,
   "id": "22560149",
   "metadata": {
    "execution": {
     "iopub.execute_input": "2022-06-27T13:09:31.423788Z",
     "iopub.status.busy": "2022-06-27T13:09:31.423311Z",
     "iopub.status.idle": "2022-06-27T13:09:31.433905Z",
     "shell.execute_reply": "2022-06-27T13:09:31.432676Z"
    },
    "papermill": {
     "duration": 0.023173,
     "end_time": "2022-06-27T13:09:31.436679",
     "exception": false,
     "start_time": "2022-06-27T13:09:31.413506",
     "status": "completed"
    },
    "tags": []
   },
   "outputs": [
    {
     "data": {
      "application/javascript": [
       "parent.postMessage({\"jupyterEvent\": \"custom.exercise_interaction\", \"data\": {\"outcomeType\": 4, \"interactionType\": 1, \"questionType\": 1, \"questionId\": \"5_DropMissingCols\", \"learnToolsVersion\": \"0.3.4\", \"valueTowardsCompletion\": 0.0, \"failureMessage\": \"\", \"exceptionClass\": \"\", \"trace\": \"\"}}, \"*\")"
      ],
      "text/plain": [
       "<IPython.core.display.Javascript object>"
      ]
     },
     "metadata": {},
     "output_type": "display_data"
    },
    {
     "data": {
      "text/markdown": [
       "<span style=\"color:#ccaa33\">Check:</span> When you've updated the starter code, `check()` will tell you whether your code is correct. You need to update the code that creates variables `sf_permits_with_na_dropped`, `dropped_columns`"
      ],
      "text/plain": [
       "Check: When you've updated the starter code, `check()` will tell you whether your code is correct. You need to update the code that creates variables `sf_permits_with_na_dropped`, `dropped_columns`"
      ]
     },
     "metadata": {},
     "output_type": "display_data"
    }
   ],
   "source": [
    "# TODO: Your code here\n",
    "sf_permits_with_na_dropped = ____\n",
    "\n",
    "dropped_columns = ____\n",
    "\n",
    "# Check your answer\n",
    "q5.check()"
   ]
  },
  {
   "cell_type": "code",
   "execution_count": 14,
   "id": "5e77bcbf",
   "metadata": {
    "execution": {
     "iopub.execute_input": "2022-06-27T13:09:31.456048Z",
     "iopub.status.busy": "2022-06-27T13:09:31.455625Z",
     "iopub.status.idle": "2022-06-27T13:09:31.460639Z",
     "shell.execute_reply": "2022-06-27T13:09:31.459395Z"
    },
    "papermill": {
     "duration": 0.017615,
     "end_time": "2022-06-27T13:09:31.463186",
     "exception": false,
     "start_time": "2022-06-27T13:09:31.445571",
     "status": "completed"
    },
    "tags": []
   },
   "outputs": [],
   "source": [
    "# Lines below will give you a hint or solution code\n",
    "#q5.hint()\n",
    "#q5.solution()"
   ]
  },
  {
   "cell_type": "markdown",
   "id": "fcbc1788",
   "metadata": {
    "papermill": {
     "duration": 0.008452,
     "end_time": "2022-06-27T13:09:31.480658",
     "exception": false,
     "start_time": "2022-06-27T13:09:31.472206",
     "status": "completed"
    },
    "tags": []
   },
   "source": [
    "# 6) Fill in missing values automatically\n",
    "\n",
    "Try replacing all the NaN's in the `sf_permits` data with the one that comes directly after it and then replacing any remaining NaN's with 0.  Set the result to a new DataFrame `sf_permits_with_na_imputed`."
   ]
  },
  {
   "cell_type": "code",
   "execution_count": 15,
   "id": "ac6b5184",
   "metadata": {
    "execution": {
     "iopub.execute_input": "2022-06-27T13:09:31.500321Z",
     "iopub.status.busy": "2022-06-27T13:09:31.499803Z",
     "iopub.status.idle": "2022-06-27T13:09:31.509348Z",
     "shell.execute_reply": "2022-06-27T13:09:31.508329Z"
    },
    "papermill": {
     "duration": 0.022077,
     "end_time": "2022-06-27T13:09:31.511567",
     "exception": false,
     "start_time": "2022-06-27T13:09:31.489490",
     "status": "completed"
    },
    "tags": []
   },
   "outputs": [
    {
     "data": {
      "application/javascript": [
       "parent.postMessage({\"jupyterEvent\": \"custom.exercise_interaction\", \"data\": {\"outcomeType\": 4, \"interactionType\": 1, \"questionType\": 1, \"questionId\": \"6_ImputeAutomatically\", \"learnToolsVersion\": \"0.3.4\", \"valueTowardsCompletion\": 0.0, \"failureMessage\": \"\", \"exceptionClass\": \"\", \"trace\": \"\"}}, \"*\")"
      ],
      "text/plain": [
       "<IPython.core.display.Javascript object>"
      ]
     },
     "metadata": {},
     "output_type": "display_data"
    },
    {
     "data": {
      "text/markdown": [
       "<span style=\"color:#ccaa33\">Check:</span> When you've updated the starter code, `check()` will tell you whether your code is correct. You need to update the code that creates variable `sf_permits_with_na_imputed`"
      ],
      "text/plain": [
       "Check: When you've updated the starter code, `check()` will tell you whether your code is correct. You need to update the code that creates variable `sf_permits_with_na_imputed`"
      ]
     },
     "metadata": {},
     "output_type": "display_data"
    }
   ],
   "source": [
    "# TODO: Your code here\n",
    "sf_permits_with_na_imputed = ____\n",
    "\n",
    "# Check your answer\n",
    "q6.check()"
   ]
  },
  {
   "cell_type": "code",
   "execution_count": 16,
   "id": "994462ec",
   "metadata": {
    "execution": {
     "iopub.execute_input": "2022-06-27T13:09:31.531743Z",
     "iopub.status.busy": "2022-06-27T13:09:31.531313Z",
     "iopub.status.idle": "2022-06-27T13:09:31.536021Z",
     "shell.execute_reply": "2022-06-27T13:09:31.534856Z"
    },
    "papermill": {
     "duration": 0.017935,
     "end_time": "2022-06-27T13:09:31.538625",
     "exception": false,
     "start_time": "2022-06-27T13:09:31.520690",
     "status": "completed"
    },
    "tags": []
   },
   "outputs": [],
   "source": [
    "# Lines below will give you a hint or solution code\n",
    "#q6.hint()\n",
    "#q6.solution()"
   ]
  },
  {
   "cell_type": "markdown",
   "id": "f3f48b73",
   "metadata": {
    "papermill": {
     "duration": 0.008825,
     "end_time": "2022-06-27T13:09:31.556770",
     "exception": false,
     "start_time": "2022-06-27T13:09:31.547945",
     "status": "completed"
    },
    "tags": []
   },
   "source": [
    "# More practice\n",
    "\n",
    "If you're looking for more practice handling missing values:\n",
    "\n",
    "* Check out [this noteboook](https://www.kaggle.com/alexisbcook/missing-values) on handling missing values using scikit-learn's imputer. \n",
    "* Look back at the \"Zipcode\" column in the `sf_permits` dataset, which has some missing values. How would you go about figuring out what the actual zipcode of each address should be? (You might try using another dataset. You can search for datasets about San Fransisco on the [Datasets listing](https://www.kaggle.com/datasets).) \n",
    "\n",
    "# Keep going\n",
    "\n",
    "In the next lesson, learn how to [**apply scaling and normalization**](https://www.kaggle.com/alexisbcook/scaling-and-normalization) to transform your data."
   ]
  },
  {
   "cell_type": "markdown",
   "id": "896001e8",
   "metadata": {
    "papermill": {
     "duration": 0.008877,
     "end_time": "2022-06-27T13:09:31.574840",
     "exception": false,
     "start_time": "2022-06-27T13:09:31.565963",
     "status": "completed"
    },
    "tags": []
   },
   "source": [
    "---\n",
    "\n",
    "\n",
    "\n",
    "\n",
    "*Have questions or comments? Visit the [course discussion forum](https://www.kaggle.com/learn/data-cleaning/discussion) to chat with other learners.*"
   ]
  }
 ],
 "metadata": {
  "kernelspec": {
   "display_name": "Python 3",
   "language": "python",
   "name": "python3"
  },
  "language_info": {
   "codemirror_mode": {
    "name": "ipython",
    "version": 3
   },
   "file_extension": ".py",
   "mimetype": "text/x-python",
   "name": "python",
   "nbconvert_exporter": "python",
   "pygments_lexer": "ipython3",
   "version": "3.7.12"
  },
  "papermill": {
   "default_parameters": {},
   "duration": 19.804846,
   "end_time": "2022-06-27T13:09:32.407013",
   "environment_variables": {},
   "exception": null,
   "input_path": "__notebook__.ipynb",
   "output_path": "__notebook__.ipynb",
   "parameters": {},
   "start_time": "2022-06-27T13:09:12.602167",
   "version": "2.3.4"
  }
 },
 "nbformat": 4,
 "nbformat_minor": 5
}
